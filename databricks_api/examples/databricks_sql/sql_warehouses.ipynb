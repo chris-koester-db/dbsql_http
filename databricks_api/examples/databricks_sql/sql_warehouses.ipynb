{
 "cells": [
  {
   "cell_type": "code",
   "execution_count": 0,
   "metadata": {
    "application/vnd.databricks.v1+cell": {
     "cellMetadata": {
      "byteLimit": 2048000,
      "rowLimit": 10000
     },
     "inputWidgets": {},
     "nuid": "2a641895-2844-4888-91a6-89255da37010",
     "showTitle": false,
     "tableResultSettingsMap": {},
     "title": ""
    }
   },
   "outputs": [],
   "source": [
    "use catalog identifier(:catalog);\n",
    "use schema identifier(:schema);"
   ]
  },
  {
   "cell_type": "markdown",
   "metadata": {
    "application/vnd.databricks.v1+cell": {
     "cellMetadata": {},
     "inputWidgets": {},
     "nuid": "d35b4728-f8a3-4ad9-8d2c-8d472d3000f0",
     "showTitle": false,
     "tableResultSettingsMap": {},
     "title": ""
    }
   },
   "source": [
    "## List Warehouses"
   ]
  },
  {
   "cell_type": "code",
   "execution_count": 0,
   "metadata": {
    "application/vnd.databricks.v1+cell": {
     "cellMetadata": {
      "byteLimit": 2048000,
      "rowLimit": 10000
     },
     "inputWidgets": {},
     "nuid": "7c582087-ed96-4e24-b83a-3818f525aef0",
     "showTitle": false,
     "tableResultSettingsMap": {},
     "title": ""
    }
   },
   "outputs": [],
   "source": [
    "describe function extended list_warehouses"
   ]
  },
  {
   "cell_type": "code",
   "execution_count": 0,
   "metadata": {
    "application/vnd.databricks.v1+cell": {
     "cellMetadata": {
      "byteLimit": 2048000,
      "rowLimit": 10000
     },
     "inputWidgets": {},
     "nuid": "802d2111-be23-4978-9824-cc5cc8e72235",
     "showTitle": false,
     "tableResultSettingsMap": {},
     "title": ""
    }
   },
   "outputs": [],
   "source": [
    "from (select list_warehouses() as resp)\n",
    "|> select explode(resp.warehouses) as col\n",
    "|> select\n",
    "     col.auto_stop_mins,\n",
    "     col.channel,\n",
    "     col.cluster_size,\n",
    "     col.creator_name,\n",
    "     col.enable_serverless_compute,\n",
    "     col.health,\n",
    "     col.id,\n",
    "     col.instance_profile_arn,\n",
    "     col.jdbc_url,\n",
    "     col.max_num_clusters,\n",
    "     col.min_num_clusters,\n",
    "     col.name,\n",
    "     col.num_active_sessions,\n",
    "     col.num_clusters,\n",
    "     col.odbc_params,\n",
    "     col.spot_instance_policy,\n",
    "     col.state,\n",
    "     col.tags,\n",
    "     col.warehouse_type"
   ]
  },
  {
   "cell_type": "markdown",
   "metadata": {
    "application/vnd.databricks.v1+cell": {
     "cellMetadata": {},
     "inputWidgets": {},
     "nuid": "1cba8197-84d6-46fc-b44b-9be4b5f59f26",
     "showTitle": false,
     "tableResultSettingsMap": {},
     "title": ""
    }
   },
   "source": [
    "## Create Warehouse"
   ]
  },
  {
   "cell_type": "code",
   "execution_count": 0,
   "metadata": {
    "application/vnd.databricks.v1+cell": {
     "cellMetadata": {
      "byteLimit": 2048000,
      "rowLimit": 10000
     },
     "inputWidgets": {},
     "nuid": "00f7bc57-d7c9-47fc-807e-d0b61f74c944",
     "showTitle": false,
     "tableResultSettingsMap": {},
     "title": ""
    }
   },
   "outputs": [],
   "source": [
    "drop function create_a_warehouse"
   ]
  },
  {
   "cell_type": "code",
   "execution_count": 0,
   "metadata": {
    "application/vnd.databricks.v1+cell": {
     "cellMetadata": {
      "byteLimit": 2048000,
      "rowLimit": 10000
     },
     "inputWidgets": {},
     "nuid": "e5a569d4-78a9-49d3-9994-9eab040ed118",
     "showTitle": false,
     "tableResultSettingsMap": {},
     "title": ""
    }
   },
   "outputs": [],
   "source": [
    "describe function extended create_warehouse"
   ]
  },
  {
   "cell_type": "code",
   "execution_count": 0,
   "metadata": {
    "application/vnd.databricks.v1+cell": {
     "cellMetadata": {
      "byteLimit": 2048000,
      "rowLimit": 10000
     },
     "inputWidgets": {},
     "nuid": "b16e7648-0ffc-43ea-8028-519d7c0552a9",
     "showTitle": false,
     "tableResultSettingsMap": {},
     "title": ""
    }
   },
   "outputs": [],
   "source": [
    "from (\n",
    "  select create_warehouse(\n",
    "    name => :warehouse_name,\n",
    "    cluster_size => :cluster_size,\n",
    "    max_num_clusters => :max_num_clusters,\n",
    "    auto_stop_mins => :auto_stop_mins,\n",
    "    enable_serverless_compute => 'true',\n",
    "    warehouse_type => 'PRO',\n",
    "    custom_tags =>\n",
    "      array(\n",
    "        named_struct(\n",
    "          'key', 'workload',\n",
    "          'value', 'sql_sdk'\n",
    "        )\n",
    "      )\n",
    "    \n",
    "  ) as resp\n",
    ")\n",
    "|> select resp.id"
   ]
  },
  {
   "cell_type": "markdown",
   "metadata": {
    "application/vnd.databricks.v1+cell": {
     "cellMetadata": {},
     "inputWidgets": {},
     "nuid": "8b495c0f-041e-4a31-8305-488ca1f7f2ad",
     "showTitle": false,
     "tableResultSettingsMap": {},
     "title": ""
    }
   },
   "source": [
    "## Get Warehouse Info"
   ]
  },
  {
   "cell_type": "code",
   "execution_count": 0,
   "metadata": {
    "application/vnd.databricks.v1+cell": {
     "cellMetadata": {},
     "inputWidgets": {},
     "nuid": "77661304-f896-456c-b6f2-1dba1fca00d9",
     "showTitle": false,
     "tableResultSettingsMap": {},
     "title": ""
    }
   },
   "outputs": [],
   "source": [
    "describe function extended get_warehouse_info"
   ]
  },
  {
   "cell_type": "code",
   "execution_count": 0,
   "metadata": {
    "application/vnd.databricks.v1+cell": {
     "cellMetadata": {
      "byteLimit": 2048000,
      "rowLimit": 10000
     },
     "inputWidgets": {},
     "nuid": "11c3fae5-c0eb-4e9e-9f61-d8b0ced0faae",
     "showTitle": false,
     "tableResultSettingsMap": {},
     "title": ""
    }
   },
   "outputs": [],
   "source": [
    "from (select get_warehouse_info('852fa6876e4341d8') as resp)\n",
    "|> select\n",
    "     resp.auto_stop_mins,\n",
    "     resp.channel,\n",
    "     resp.cluster_size,\n",
    "     resp.creator_name,\n",
    "     resp.enable_serverless_compute,\n",
    "     resp.health,\n",
    "     resp.id,\n",
    "     resp.instance_profile_arn,\n",
    "     resp.jdbc_url,\n",
    "     resp.max_num_clusters,\n",
    "     resp.min_num_clusters,\n",
    "     resp.name,\n",
    "     resp.num_active_sessions,\n",
    "     resp.num_clusters,\n",
    "     resp.odbc_params,\n",
    "     resp.spot_instance_policy,\n",
    "     resp.state,\n",
    "     resp.tags,\n",
    "     resp.warehouse_type"
   ]
  },
  {
   "cell_type": "markdown",
   "metadata": {
    "application/vnd.databricks.v1+cell": {
     "cellMetadata": {},
     "inputWidgets": {},
     "nuid": "4b9a52b7-4b16-488e-b578-8e754ce22eb4",
     "showTitle": false,
     "tableResultSettingsMap": {},
     "title": ""
    }
   },
   "source": [
    "## Update Warehouse"
   ]
  },
  {
   "cell_type": "code",
   "execution_count": 0,
   "metadata": {
    "application/vnd.databricks.v1+cell": {
     "cellMetadata": {},
     "inputWidgets": {},
     "nuid": "c48379cc-1f4e-4bf3-855c-5787ab3fbf3c",
     "showTitle": false,
     "tableResultSettingsMap": {},
     "title": ""
    }
   },
   "outputs": [],
   "source": [
    "describe function extended update_warehouse"
   ]
  },
  {
   "cell_type": "code",
   "execution_count": 0,
   "metadata": {
    "application/vnd.databricks.v1+cell": {
     "cellMetadata": {
      "byteLimit": 2048000,
      "rowLimit": 10000
     },
     "inputWidgets": {},
     "nuid": "2b6cc1c5-37c3-411a-9b9e-9815f9d8cf77",
     "showTitle": false,
     "tableResultSettingsMap": {},
     "title": ""
    }
   },
   "outputs": [],
   "source": [
    "from (\n",
    "  select update_warehouse(\n",
    "    id => '852fa6876e4341d8',\n",
    "    name => :warehouse_name,\n",
    "    cluster_size => 'X-Small',\n",
    "    max_num_clusters => 2,\n",
    "    auto_stop_mins => 20,\n",
    "    custom_tags =>\n",
    "      array(\n",
    "        named_struct(\n",
    "          'key', 'workload',\n",
    "          'value', 'sql_sdk'\n",
    "        )\n",
    "      )\n",
    "  ) as resp\n",
    ")\n",
    "|> select resp"
   ]
  },
  {
   "cell_type": "markdown",
   "metadata": {
    "application/vnd.databricks.v1+cell": {
     "cellMetadata": {},
     "inputWidgets": {},
     "nuid": "c7849c1e-8f3b-46b7-8e5a-6fa081195c8a",
     "showTitle": false,
     "tableResultSettingsMap": {},
     "title": ""
    }
   },
   "source": [
    "## Delete Warehouse"
   ]
  },
  {
   "cell_type": "code",
   "execution_count": 0,
   "metadata": {
    "application/vnd.databricks.v1+cell": {
     "cellMetadata": {},
     "inputWidgets": {},
     "nuid": "e416bd95-a160-48cf-91e2-b9ec684cc3ca",
     "showTitle": false,
     "tableResultSettingsMap": {},
     "title": ""
    }
   },
   "outputs": [],
   "source": [
    "describe function extended delete_warehouse"
   ]
  },
  {
   "cell_type": "code",
   "execution_count": 0,
   "metadata": {
    "application/vnd.databricks.v1+cell": {
     "cellMetadata": {
      "byteLimit": 2048000,
      "rowLimit": 10000
     },
     "inputWidgets": {},
     "nuid": "41638086-9288-4564-90f8-f180c7410196",
     "showTitle": false,
     "tableResultSettingsMap": {},
     "title": ""
    }
   },
   "outputs": [],
   "source": [
    "select delete_warehouse('852fa6876e4341d8') as resp"
   ]
  }
 ],
 "metadata": {
  "application/vnd.databricks.v1+notebook": {
   "computePreferences": null,
   "dashboards": [],
   "environmentMetadata": null,
   "inputWidgetPreferences": null,
   "language": "sql",
   "notebookMetadata": {
    "pythonIndentUnit": 2
   },
   "notebookName": "sql_warehouses",
   "widgets": {
    "auto_stop_mins": {
     "currentValue": "10",
     "nuid": "ae136797-eba2-472b-a9bd-9525d4437478",
     "typedWidgetInfo": {
      "autoCreated": false,
      "defaultValue": "10",
      "label": "06 Auto Stop Minutes",
      "name": "auto_stop_mins",
      "options": {
       "validationRegex": null,
       "widgetDisplayType": "Text"
      },
      "parameterDataType": "String"
     },
     "widgetInfo": {
      "defaultValue": "10",
      "label": "06 Auto Stop Minutes",
      "name": "auto_stop_mins",
      "options": {
       "autoCreated": null,
       "validationRegex": null,
       "widgetType": "text"
      },
      "widgetType": "text"
     }
    },
    "catalog": {
     "currentValue": "main",
     "nuid": "1d481698-b617-498b-99c3-6ea1df4f4e3d",
     "typedWidgetInfo": {
      "autoCreated": false,
      "defaultValue": "main",
      "label": "01 Catalog",
      "name": "catalog",
      "options": {
       "validationRegex": null,
       "widgetDisplayType": "Text"
      },
      "parameterDataType": "String"
     },
     "widgetInfo": {
      "defaultValue": "main",
      "label": "01 Catalog",
      "name": "catalog",
      "options": {
       "autoCreated": null,
       "validationRegex": null,
       "widgetType": "text"
      },
      "widgetType": "text"
     }
    },
    "cluster_size": {
     "currentValue": "2X-Small",
     "nuid": "2e71cfce-11e2-4311-836d-c9325d6b34b6",
     "typedWidgetInfo": {
      "autoCreated": false,
      "defaultValue": "2X-Small",
      "label": "04 Cluster Size",
      "name": "cluster_size",
      "options": {
       "choices": [
        "2X-Small",
        "X-Small",
        "Small",
        "Medium",
        "Large",
        "X-Large",
        "2X-Large",
        "3X-Large",
        "4X-Large"
       ],
       "fixedDomain": true,
       "multiselect": false,
       "widgetDisplayType": "Dropdown"
      },
      "parameterDataType": "String"
     },
     "widgetInfo": {
      "defaultValue": "2X-Small",
      "label": "04 Cluster Size",
      "name": "cluster_size",
      "options": {
       "autoCreated": null,
       "choices": [
        "2X-Small",
        "X-Small",
        "Small",
        "Medium",
        "Large",
        "X-Large",
        "2X-Large",
        "3X-Large",
        "4X-Large"
       ],
       "widgetType": "dropdown"
      },
      "widgetType": "dropdown"
     }
    },
    "max_num_clusters": {
     "currentValue": "1",
     "nuid": "bd5bda22-36be-480c-aa31-7ac62af304e9",
     "typedWidgetInfo": {
      "autoCreated": false,
      "defaultValue": "1",
      "label": "05 Max Num Clusters",
      "name": "max_num_clusters",
      "options": {
       "validationRegex": null,
       "widgetDisplayType": "Text"
      },
      "parameterDataType": "String"
     },
     "widgetInfo": {
      "defaultValue": "1",
      "label": "05 Max Num Clusters",
      "name": "max_num_clusters",
      "options": {
       "autoCreated": null,
       "validationRegex": null,
       "widgetType": "text"
      },
      "widgetType": "text"
     }
    },
    "schema": {
     "currentValue": "chris_koester",
     "nuid": "203612de-0f15-4523-b738-0078227e01a6",
     "typedWidgetInfo": {
      "autoCreated": false,
      "defaultValue": "databricks_api",
      "label": "02 Schema",
      "name": "schema",
      "options": {
       "validationRegex": null,
       "widgetDisplayType": "Text"
      },
      "parameterDataType": "String"
     },
     "widgetInfo": {
      "defaultValue": "databricks_api",
      "label": "02 Schema",
      "name": "schema",
      "options": {
       "autoCreated": null,
       "validationRegex": null,
       "widgetType": "text"
      },
      "widgetType": "text"
     }
    },
    "warehouse_name": {
     "currentValue": "sql_sdk",
     "nuid": "63042a4b-e9d2-4af5-afbd-95e26c0878f4",
     "typedWidgetInfo": {
      "autoCreated": false,
      "defaultValue": "sql_sdk",
      "label": "03 Warehouse Name",
      "name": "warehouse_name",
      "options": {
       "validationRegex": null,
       "widgetDisplayType": "Text"
      },
      "parameterDataType": "String"
     },
     "widgetInfo": {
      "defaultValue": "sql_sdk",
      "label": "03 Warehouse Name",
      "name": "warehouse_name",
      "options": {
       "autoCreated": false,
       "validationRegex": null,
       "widgetType": "text"
      },
      "widgetType": "text"
     }
    }
   }
  },
  "language_info": {
   "name": "sql"
  }
 },
 "nbformat": 4,
 "nbformat_minor": 0
}
