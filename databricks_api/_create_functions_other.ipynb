{
 "cells": [
  {
   "cell_type": "code",
   "execution_count": 0,
   "metadata": {
    "application/vnd.databricks.v1+cell": {
     "cellMetadata": {
      "byteLimit": 2048000,
      "rowLimit": 10000
     },
     "inputWidgets": {},
     "nuid": "70170064-1d65-487b-ac2f-6e827fedd7df",
     "showTitle": false,
     "tableResultSettingsMap": {},
     "title": ""
    }
   },
   "outputs": [],
   "source": [
    "use catalog identifier(:catalog);\n",
    "use schema identifier(:schema);"
   ]
  },
  {
   "cell_type": "markdown",
   "metadata": {
    "application/vnd.databricks.v1+cell": {
     "cellMetadata": {
      "byteLimit": 2048000,
      "rowLimit": 10000
     },
     "inputWidgets": {},
     "nuid": "aeb6004e-1dee-4111-a729-22e4961727f5",
     "showTitle": false,
     "tableResultSettingsMap": {},
     "title": ""
    }
   },
   "source": [
    "# Unity Catalog"
   ]
  },
  {
   "cell_type": "markdown",
   "metadata": {
    "application/vnd.databricks.v1+cell": {
     "cellMetadata": {
      "byteLimit": 2048000,
      "rowLimit": 10000
     },
     "inputWidgets": {},
     "nuid": "c00f9c2b-f8e3-4028-8c71-813acb2e6b5c",
     "showTitle": false,
     "tableResultSettingsMap": {},
     "title": ""
    }
   },
   "source": [
    "## Tables"
   ]
  },
  {
   "cell_type": "code",
   "execution_count": 0,
   "metadata": {
    "application/vnd.databricks.v1+cell": {
     "cellMetadata": {
      "byteLimit": 2048000,
      "rowLimit": 10000
     },
     "inputWidgets": {},
     "nuid": "78cbe8ef-ae17-476b-b7b0-265bcf8510ca",
     "showTitle": true,
     "tableResultSettingsMap": {},
     "title": "Get a Table"
    }
   },
   "outputs": [],
   "source": [
    "-- https://docs.databricks.com/api/workspace/tables/get\n",
    "-- create function if not exists get_table(table_name string)\n",
    "create or replace function get_table(table_name string)\n",
    "comment 'Gets a table from the metastore for a specific catalog and schema. https://docs.databricks.com/api/workspace/tables/get'\n",
    "return\n",
    "select\n",
    "  http_request(\n",
    "    conn => 'databricks_api',\n",
    "    method => 'GET',\n",
    "    path => concat('2.1/unity-catalog/tables/', table_name)\n",
    "  ).text as resp\n",
    "|> select\n",
    "     from_json(\n",
    "       resp,\n",
    "       'STRUCT<access_point: STRING, browse_only: BOOLEAN, catalog_name: STRING, columns: ARRAY<STRUCT<comment: STRING, mask: STRUCT<function_name: STRING, using_column_names: ARRAY<STRING>>, name: STRING, nullable: BOOLEAN, partition_index: BIGINT, position: BIGINT, type_interval_type: STRING, type_json: STRING, type_name: STRING, type_precision: BIGINT, type_scale: BIGINT, type_text: STRING>>, comment: STRING, created_at: BIGINT, created_by: STRING, data_access_configuration_id: STRING, data_source_format: STRING, deleted_at: BIGINT, delta_runtime_properties_kvpairs: STRUCT<delta_runtime_properties: STRUCT<property1: STRING, property2: STRING>>, effective_predictive_optimization_flag: STRUCT<inherited_from_name: STRING, inherited_from_type: STRING, value: STRING>, enable_predictive_optimization: STRING, full_name: STRING, metastore_id: STRING, name: STRING, owner: STRING, pipeline_id: STRING, properties: STRUCT<property1: STRING, property2: STRING>, row_filter: STRUCT<function_name: STRING, input_column_names: ARRAY<STRING>>, schema_name: STRING, sql_path: STRING, storage_credential_name: STRING, storage_location: STRING, table_constraints: ARRAY<STRUCT<foreign_key_constraint: STRUCT<child_columns: ARRAY<STRING>, name: STRING, parent_columns: ARRAY<STRING>, parent_table: STRING>, named_table_constraint: STRUCT<name: STRING>, primary_key_constraint: STRUCT<child_columns: ARRAY<STRING>, name: STRING>>>, table_id: STRING, table_type: STRING, updated_at: BIGINT, updated_by: STRING, view_definition: STRING, view_dependencies: STRUCT<dependencies: ARRAY<STRUCT<function: STRUCT<function_full_name: STRING>, table: STRUCT<table_full_name: STRING>>>>>'\n",
    "     ) as resp;"
   ]
  },
  {
   "cell_type": "markdown",
   "metadata": {
    "application/vnd.databricks.v1+cell": {
     "cellMetadata": {
      "byteLimit": 2048000,
      "rowLimit": 10000
     },
     "inputWidgets": {},
     "nuid": "c7886a9a-db7f-4722-81cb-ecd66e81e7ee",
     "showTitle": false,
     "tableResultSettingsMap": {},
     "title": ""
    }
   },
   "source": [
    "# File Management"
   ]
  },
  {
   "cell_type": "markdown",
   "metadata": {
    "application/vnd.databricks.v1+cell": {
     "cellMetadata": {
      "byteLimit": 2048000,
      "rowLimit": 10000
     },
     "inputWidgets": {},
     "nuid": "fe3950fb-c86c-40e0-bd25-3fdc1cf154c4",
     "showTitle": false,
     "tableResultSettingsMap": {},
     "title": ""
    }
   },
   "source": [
    "## Files"
   ]
  },
  {
   "cell_type": "code",
   "execution_count": 0,
   "metadata": {
    "application/vnd.databricks.v1+cell": {
     "cellMetadata": {
      "byteLimit": 2048000,
      "rowLimit": 10000
     },
     "inputWidgets": {},
     "nuid": "ef291d38-2154-4d27-9456-6561a9f111aa",
     "showTitle": true,
     "tableResultSettingsMap": {},
     "title": "List Directory Contents"
    }
   },
   "outputs": [],
   "source": [
    "-- https://docs.databricks.com/api/workspace/files/listdirectorycontents\n",
    "create or replace function list_directory_contents(directory_path string)\n",
    "comment 'Returns the contents of a directory. If there is no directory at the specified path, the API returns a HTTP 404 error. https://docs.databricks.com/api/workspace/files/listdirectorycontents'\n",
    "return\n",
    "select\n",
    "  http_request(\n",
    "    conn => 'databricks_api',\n",
    "    method => 'GET',\n",
    "    path => concat('2.0/fs/directories', directory_path)\n",
    "  ).text as resp\n",
    "|> select\n",
    "     from_json(\n",
    "       resp,\n",
    "       'STRUCT<contents: ARRAY<STRUCT<file_size: BIGINT, is_directory: BOOLEAN, last_modified: BIGINT, name: STRING, path: STRING>>>'\n",
    "     ) as resp;"
   ]
  }
 ],
 "metadata": {
  "application/vnd.databricks.v1+notebook": {
   "computePreferences": null,
   "dashboards": [],
   "environmentMetadata": null,
   "inputWidgetPreferences": null,
   "language": "sql",
   "notebookMetadata": {
    "pythonIndentUnit": 2
   },
   "notebookName": "_create_functions_other",
   "widgets": {
    "catalog": {
     "currentValue": "users",
     "nuid": "ad432de6-512d-4b19-9fc3-f5e0e45c9053",
     "typedWidgetInfo": {
      "autoCreated": false,
      "defaultValue": "users",
      "label": "01 Catalog",
      "name": "catalog",
      "options": {
       "widgetDisplayType": "Text",
       "validationRegex": null
      },
      "parameterDataType": "String"
     },
     "widgetInfo": {
      "widgetType": "text",
      "defaultValue": "users",
      "label": "01 Catalog",
      "name": "catalog",
      "options": {
       "widgetType": "text",
       "autoCreated": false,
       "validationRegex": null
      }
     }
    },
    "schema": {
     "currentValue": "chris_koester",
     "nuid": "93af6528-04ba-4ff5-9811-0aaff402f97f",
     "typedWidgetInfo": {
      "autoCreated": false,
      "defaultValue": "databricks_api",
      "label": "02 Schema",
      "name": "schema",
      "options": {
       "widgetDisplayType": "Text",
       "validationRegex": null
      },
      "parameterDataType": "String"
     },
     "widgetInfo": {
      "widgetType": "text",
      "defaultValue": "databricks_api",
      "label": "02 Schema",
      "name": "schema",
      "options": {
       "widgetType": "text",
       "autoCreated": false,
       "validationRegex": null
      }
     }
    }
   }
  },
  "language_info": {
   "name": "sql"
  }
 },
 "nbformat": 4,
 "nbformat_minor": 0
}
