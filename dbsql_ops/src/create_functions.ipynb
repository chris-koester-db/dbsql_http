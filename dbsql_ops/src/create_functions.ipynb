{
 "cells": [
  {
   "cell_type": "markdown",
   "metadata": {
    "application/vnd.databricks.v1+cell": {
     "cellMetadata": {},
     "inputWidgets": {},
     "nuid": "85a9d4dc-ad42-4000-8c50-68a84d8007ca",
     "showTitle": false,
     "tableResultSettingsMap": {},
     "title": ""
    }
   },
   "source": [
    "## Intro\n",
    "An [HTTP connection](https://docs.databricks.com/aws/en/sql/language-manual/sql-ref-syntax-ddl-create-connection) must be created before using the functions in this notebook.\n",
    "\n",
    "The default connection name is `databricks_api`."
   ]
  },
  {
   "cell_type": "code",
   "execution_count": 0,
   "metadata": {
    "application/vnd.databricks.v1+cell": {
     "cellMetadata": {
      "byteLimit": 2048000,
      "rowLimit": 10000
     },
     "inputWidgets": {},
     "nuid": "70170064-1d65-487b-ac2f-6e827fedd7df",
     "showTitle": true,
     "tableResultSettingsMap": {},
     "title": "Set Catalog & Schema"
    }
   },
   "outputs": [],
   "source": [
    "use catalog identifier(:catalog);\n",
    "use schema identifier(:schema);"
   ]
  },
  {
   "cell_type": "markdown",
   "metadata": {
    "application/vnd.databricks.v1+cell": {
     "cellMetadata": {},
     "inputWidgets": {},
     "nuid": "445be201-b4b5-45a3-9cb8-e52528d70fb7",
     "showTitle": false,
     "tableResultSettingsMap": {},
     "title": ""
    }
   },
   "source": [
    "## Unity Catalog"
   ]
  },
  {
   "cell_type": "code",
   "execution_count": 0,
   "metadata": {
    "application/vnd.databricks.v1+cell": {
     "cellMetadata": {
      "byteLimit": 2048000,
      "rowLimit": 10000
     },
     "inputWidgets": {},
     "nuid": "c8cd3a64-705a-4c68-8029-c1cfa954d715",
     "showTitle": true,
     "tableResultSettingsMap": {},
     "title": "Get Table"
    }
   },
   "outputs": [],
   "source": [
    "-- https://docs.databricks.com/api/workspace/tables/get\n",
    "-- create function if not exists get_table(table_name string)\n",
    "create or replace function get_table(\n",
    "  catalog_name string,\n",
    "  schema_name string,\n",
    "  table_name string\n",
    ")\n",
    "comment 'Gets a table from the metastore for a specific catalog and schema. https://docs.databricks.com/api/workspace/tables/get'\n",
    "return\n",
    "select\n",
    "  http_request(\n",
    "    conn => 'databricks_api',\n",
    "    method => 'GET',\n",
    "    path => concat('2.1/unity-catalog/tables/', catalog_name, '.', schema_name, '.', table_name)\n",
    "  ).text as resp\n",
    "|> select\n",
    "     from_json(\n",
    "       resp,\n",
    "       'STRUCT<access_point: STRING, browse_only: BOOLEAN, catalog_name: STRING, columns: ARRAY<STRUCT<comment: STRING, mask: STRUCT<function_name: STRING, using_column_names: ARRAY<STRING>>, name: STRING, nullable: BOOLEAN, partition_index: BIGINT, position: BIGINT, type_interval_type: STRING, type_json: STRING, type_name: STRING, type_precision: BIGINT, type_scale: BIGINT, type_text: STRING>>, comment: STRING, created_at: BIGINT, created_by: STRING, data_access_configuration_id: STRING, data_source_format: STRING, deleted_at: BIGINT, delta_runtime_properties_kvpairs: STRUCT<delta_runtime_properties: MAP<STRING, STRING>>, effective_predictive_optimization_flag: STRUCT<inherited_from_name: STRING, inherited_from_type: STRING, value: STRING>, enable_predictive_optimization: STRING, full_name: STRING, metastore_id: STRING, name: STRING, owner: STRING, pipeline_id: STRING, properties: MAP<STRING, STRING>, row_filter: STRUCT<function_name: STRING, input_column_names: ARRAY<STRING>>, schema_name: STRING, sql_path: STRING, storage_credential_name: STRING, storage_location: STRING, table_constraints: ARRAY<STRUCT<foreign_key_constraint: STRUCT<child_columns: ARRAY<STRING>, name: STRING, parent_columns: ARRAY<STRING>, parent_table: STRING>, named_table_constraint: STRUCT<name: STRING>, primary_key_constraint: STRUCT<child_columns: ARRAY<STRING>, name: STRING>>>, table_id: STRING, table_type: STRING, updated_at: BIGINT, updated_by: STRING, view_definition: STRING, view_dependencies: STRUCT<dependencies: ARRAY<STRUCT<function: STRUCT<function_full_name: STRING>, table: STRUCT<table_full_name: STRING>>>>>'\n",
    "     ) as resp;"
   ]
  },
  {
   "cell_type": "markdown",
   "metadata": {
    "application/vnd.databricks.v1+cell": {
     "cellMetadata": {},
     "inputWidgets": {},
     "nuid": "acf7b10e-acf7-4ff2-9a79-c66898b18b09",
     "showTitle": false,
     "tableResultSettingsMap": {},
     "title": ""
    }
   },
   "source": [
    "## SQL Warehouses"
   ]
  },
  {
   "cell_type": "code",
   "execution_count": 0,
   "metadata": {
    "application/vnd.databricks.v1+cell": {
     "cellMetadata": {
      "byteLimit": 2048000,
      "rowLimit": 10000
     },
     "inputWidgets": {},
     "nuid": "c4d60c15-b09f-4ab1-8491-45df73a08c74",
     "showTitle": true,
     "tableResultSettingsMap": {},
     "title": "Get SQL Warehouse Permissions"
    }
   },
   "outputs": [],
   "source": [
    "-- https://docs.databricks.com/api/workspace/warehouses/getpermissions\n",
    "create or replace function get_warehouse_permissions(\n",
    "  warehouse_id string\n",
    ")\n",
    "comment 'Gets the permissions of a SQL warehouse. SQL warehouses can inherit permissions from their root object. https://docs.databricks.com/api/workspace/warehouses/getpermissions'\n",
    "return\n",
    "select\n",
    "  http_request(\n",
    "    conn => 'databricks_api',\n",
    "    method => 'GET',\n",
    "    path => concat('2.0/permissions/warehouses/', warehouse_id)\n",
    "  ).text as resp\n",
    "|> select\n",
    "     from_json(\n",
    "       resp,\n",
    "       'STRUCT<access_control_list: ARRAY<STRUCT<all_permissions: ARRAY<STRUCT<inherited: BOOLEAN, inherited_from_object: ARRAY<STRING>, permission_level: STRING>>, display_name: STRING, group_name: STRING, service_principal_name: STRING, user_name: STRING>>, object_id: STRING, object_type: STRING>'\n",
    "     ) as resp;"
   ]
  },
  {
   "cell_type": "code",
   "execution_count": 0,
   "metadata": {
    "application/vnd.databricks.v1+cell": {
     "cellMetadata": {
      "byteLimit": 2048000,
      "rowLimit": 10000
     },
     "inputWidgets": {},
     "nuid": "a8eb3e21-042a-40fc-9c13-8e1cf8d4b5b6",
     "showTitle": true,
     "tableResultSettingsMap": {},
     "title": "Set SQL Warehouse Permissions"
    }
   },
   "outputs": [],
   "source": [
    "-- https://docs.databricks.com/api/workspace/warehouses/setpermissions\n",
    "create or replace function set_warehouse_permissions(\n",
    "  warehouse_id string,\n",
    "  access_control_list string\n",
    ")\n",
    "comment 'Sets permissions on an object, replacing existing permissions if they exist. Deletes all direct permissions if none are specified. Objects can inherit permissions from their root object. https://docs.databricks.com/api/workspace/warehouses/setpermissions'\n",
    "return\n",
    "select\n",
    "  http_request(\n",
    "    conn => 'databricks_api',\n",
    "    method => 'PUT',\n",
    "    path => concat('2.0/permissions/warehouses/', warehouse_id),\n",
    "    json => access_control_list\n",
    "  ).text as resp\n",
    "|> select\n",
    "     from_json(\n",
    "       resp,\n",
    "       'STRUCT<access_control_list: ARRAY<STRUCT<all_permissions: ARRAY<STRUCT<inherited: BOOLEAN, inherited_from_object: ARRAY<STRING>, permission_level: STRING>>, display_name: STRING, group_name: STRING, service_principal_name: STRING, user_name: STRING>>, object_id: STRING, object_type: STRING>'\n",
    "     ) as resp;"
   ]
  },
  {
   "cell_type": "code",
   "execution_count": 0,
   "metadata": {
    "application/vnd.databricks.v1+cell": {
     "cellMetadata": {
      "byteLimit": 2048000,
      "rowLimit": 10000
     },
     "inputWidgets": {},
     "nuid": "92d99afd-7969-4ca4-8bdc-66d0aad94fc7",
     "showTitle": true,
     "tableResultSettingsMap": {},
     "title": "Update SQL Warehouse Permissions"
    }
   },
   "outputs": [],
   "source": [
    "-- https://docs.databricks.com/api/workspace/warehouses/updatepermissions\n",
    "create or replace function update_warehouse_permissions(\n",
    "  warehouse_id string,\n",
    "  access_control_list string\n",
    ")\n",
    "comment 'Updates the permissions on a SQL warehouse. SQL warehouses can inherit permissions from their root object. https://docs.databricks.com/api/workspace/warehouses/updatepermissions'\n",
    "return\n",
    "select\n",
    "  http_request(\n",
    "    conn => 'databricks_api',\n",
    "    method => 'PATCH',\n",
    "    path => concat('2.0/permissions/warehouses/', warehouse_id),\n",
    "    json => access_control_list\n",
    "  ).text as resp\n",
    "|> select\n",
    "     from_json(\n",
    "       resp,\n",
    "       'STRUCT<access_control_list: ARRAY<STRUCT<all_permissions: ARRAY<STRUCT<inherited: BOOLEAN, inherited_from_object: ARRAY<STRING>, permission_level: STRING>>, display_name: STRING, group_name: STRING, service_principal_name: STRING, user_name: STRING>>, object_id: STRING, object_type: STRING>'\n",
    "     ) as resp;"
   ]
  },
  {
   "cell_type": "code",
   "execution_count": 0,
   "metadata": {
    "application/vnd.databricks.v1+cell": {
     "cellMetadata": {
      "byteLimit": 2048000,
      "rowLimit": 10000
     },
     "inputWidgets": {},
     "nuid": "988050c9-ec3e-4b6b-94fb-c312806af882",
     "showTitle": false,
     "tableResultSettingsMap": {},
     "title": ""
    }
   },
   "outputs": [],
   "source": [
    "-- https://docs.databricks.com/api/workspace/warehouses/getpermissionlevels\n",
    "create or replace function get_warehouse_permission_levels(\n",
    "  warehouse_id string\n",
    ")\n",
    "comment 'Gets the permission levels that a user can have on an object. https://docs.databricks.com/api/workspace/warehouses/getpermissionlevels'\n",
    "return\n",
    "select\n",
    "  http_request(\n",
    "    conn => 'databricks_api',\n",
    "    method => 'GET',\n",
    "    path => concat('2.0/permissions/warehouses/', warehouse_id, '/permissionLevels')\n",
    "  ).text as resp\n",
    "|> select\n",
    "     from_json(\n",
    "       resp,\n",
    "       'STRUCT<permission_levels: ARRAY<STRUCT<description: STRING, permission_level: STRING>>>'\n",
    "     ) as resp;"
   ]
  },
  {
   "cell_type": "code",
   "execution_count": 0,
   "metadata": {
    "application/vnd.databricks.v1+cell": {
     "cellMetadata": {
      "byteLimit": 2048000,
      "rowLimit": 10000
     },
     "inputWidgets": {},
     "nuid": "c6b71f47-09ee-494e-b7cf-f67125aa756c",
     "showTitle": true,
     "tableResultSettingsMap": {},
     "title": "List Warehouses"
    }
   },
   "outputs": [],
   "source": [
    "-- https://docs.databricks.com/api/workspace/warehouses/list\n",
    "create or replace function list_warehouses(\n",
    "  run_as_user_id int default null\n",
    ")\n",
    "comment 'Lists all SQL warehouses that a user has manager permissions on. https://docs.databricks.com/api/workspace/warehouses/list'\n",
    "return\n",
    "select\n",
    "  http_request(\n",
    "    conn => 'databricks_api',\n",
    "    method => 'GET',\n",
    "    path => '2.0/sql/warehouses',\n",
    "    json => \n",
    "      to_json(\n",
    "        named_struct(\n",
    "          'run_as_user_id', run_as_user_id\n",
    "        )\n",
    "      )\n",
    "  ).text as resp\n",
    "|> select\n",
    "     from_json(\n",
    "       resp,\n",
    "       'STRUCT<warehouses: ARRAY<STRUCT<auto_stop_mins: STRING, channel: STRUCT<dbsql_version: STRING, name: STRING>, cluster_size: STRING, creator_name: STRING, enable_photon: BOOLEAN, enable_serverless_compute: BOOLEAN, health: STRUCT<details: STRING, failure_reason: STRUCT<code: STRING, parameters: STRUCT<property1: STRING, property2: STRING>, type: STRING>, message: STRING, status: STRING, summary: STRING>, id: STRING, instance_profile_arn: STRING, jdbc_url: STRING, max_num_clusters: BIGINT, min_num_clusters: STRING, name: STRING, num_active_sessions: BIGINT, num_clusters: BIGINT, odbc_params: STRUCT<hostname: STRING, path: STRING, port: BIGINT, protocol: STRING>, spot_instance_policy: STRING, state: STRING, tags: STRUCT<custom_tags: ARRAY<STRUCT<key: STRING, value: STRING>>>, warehouse_type: STRING>>>'\n",
    "     ) as resp;"
   ]
  },
  {
   "cell_type": "code",
   "execution_count": 0,
   "metadata": {
    "application/vnd.databricks.v1+cell": {
     "cellMetadata": {
      "byteLimit": 2048000,
      "rowLimit": 10000
     },
     "inputWidgets": {},
     "nuid": "0087b0f4-7c6a-4c3b-a0e1-364822a40f5b",
     "showTitle": true,
     "tableResultSettingsMap": {},
     "title": "Create a Warehouse"
    }
   },
   "outputs": [],
   "source": [
    "-- https://docs.databricks.com/api/workspace/warehouses/create\n",
    "create or replace function create_warehouse(\n",
    "  auto_stop_mins int default null,\n",
    "  channel_name string default 'CHANNEL_NAME_CURRENT',\n",
    "  cluster_size string default null,\n",
    "  creator_name string default null,\n",
    "  enable_serverless_compute string default null,\n",
    "  instance_profile_arn string default null,\n",
    "  max_num_clusters int default null,\n",
    "  min_num_clusters int default null,\n",
    "  name string default null,\n",
    "  spot_instance_policy string default null,\n",
    "  custom_tags array<struct<key:string,value:string>> default null,\n",
    "  warehouse_type string default null\n",
    ")\n",
    "comment 'Creates a new SQL warehouse. https://docs.databricks.com/api/workspace/warehouses/create'\n",
    "return\n",
    "select\n",
    "  http_request(\n",
    "    conn => 'databricks_api',\n",
    "    method => 'POST',\n",
    "    path => '2.0/sql/warehouses',\n",
    "    json => \n",
    "      to_json(\n",
    "        named_struct(\n",
    "          'auto_stop_mins', auto_stop_mins,\n",
    "          'channel', named_struct(\n",
    "            'dbsql_version', null,\n",
    "            'name', channel_name\n",
    "          ),\n",
    "          'cluster_size', cluster_size,\n",
    "          'creator_name', creator_name,\n",
    "          'enable_photon', true,\n",
    "          'enable_serverless_compute', enable_serverless_compute,\n",
    "          'instance_profile_arn', instance_profile_arn,\n",
    "          'max_num_clusters', max_num_clusters,\n",
    "          'min_num_clusters', min_num_clusters,\n",
    "          'name', name,\n",
    "          'spot_instance_policy', spot_instance_policy,\n",
    "          'tags', named_struct(\n",
    "            'custom_tags', custom_tags\n",
    "          ),\n",
    "          'warehouse_type', warehouse_type\n",
    "        )\n",
    "      )\n",
    "  ).text as resp\n",
    "|> select\n",
    "     from_json(\n",
    "       resp,\n",
    "       'STRUCT<id: STRING>'\n",
    "     ) as resp;"
   ]
  },
  {
   "cell_type": "code",
   "execution_count": 0,
   "metadata": {
    "application/vnd.databricks.v1+cell": {
     "cellMetadata": {
      "byteLimit": 2048000,
      "rowLimit": 10000
     },
     "inputWidgets": {},
     "nuid": "9ebe1586-2eb4-4880-9950-055d4013fef1",
     "showTitle": true,
     "tableResultSettingsMap": {},
     "title": "Get Warehouse Info"
    }
   },
   "outputs": [],
   "source": [
    "-- https://docs.databricks.com/api/workspace/warehouses/get\n",
    "create or replace function get_warehouse_info(\n",
    "  id string\n",
    ")\n",
    "comment 'Gets the information for a single SQL warehouse. https://docs.databricks.com/api/workspace/warehouses/get'\n",
    "return\n",
    "select\n",
    "  http_request(\n",
    "    conn => 'databricks_api',\n",
    "    method => 'GET',\n",
    "    path => concat('2.0/sql/warehouses/', id)\n",
    "  ).text as resp\n",
    "|> select\n",
    "     from_json(\n",
    "       resp,\n",
    "       'STRUCT<auto_stop_mins: STRING, channel: STRUCT<dbsql_version: STRING, name: STRING>, cluster_size: STRING, creator_name: STRING, enable_photon: BOOLEAN, enable_serverless_compute: BOOLEAN, health: STRUCT<details: STRING, failure_reason: STRUCT<code: STRING, parameters: STRUCT<property1: STRING, property2: STRING>, type: STRING>, message: STRING, status: STRING, summary: STRING>, id: STRING, instance_profile_arn: STRING, jdbc_url: STRING, max_num_clusters: BIGINT, min_num_clusters: STRING, name: STRING, num_active_sessions: BIGINT, num_clusters: BIGINT, odbc_params: STRUCT<hostname: STRING, path: STRING, port: BIGINT, protocol: STRING>, spot_instance_policy: STRING, state: STRING, tags: STRUCT<custom_tags: ARRAY<STRUCT<key: STRING, value: STRING>>>, warehouse_type: STRING>'\n",
    "     ) as resp;"
   ]
  },
  {
   "cell_type": "code",
   "execution_count": 0,
   "metadata": {
    "application/vnd.databricks.v1+cell": {
     "cellMetadata": {
      "byteLimit": 2048000,
      "rowLimit": 10000
     },
     "inputWidgets": {},
     "nuid": "fa020e9f-9d50-42a9-b2ca-7e5c9e6942dd",
     "showTitle": true,
     "tableResultSettingsMap": {},
     "title": "Delete a Warehouse"
    }
   },
   "outputs": [],
   "source": [
    "-- https://docs.databricks.com/api/workspace/warehouses/delete\n",
    "create or replace function delete_warehouse(\n",
    "  id string\n",
    ")\n",
    "comment 'Deletes a SQL warehouse. https://docs.databricks.com/api/workspace/warehouses/delete'\n",
    "return\n",
    "select\n",
    "  http_request(\n",
    "    conn => 'databricks_api',\n",
    "    method => 'DELETE',\n",
    "    path => concat('2.0/sql/warehouses/', id)\n",
    "  ).text as resp;"
   ]
  },
  {
   "cell_type": "code",
   "execution_count": 0,
   "metadata": {
    "application/vnd.databricks.v1+cell": {
     "cellMetadata": {
      "byteLimit": 2048000,
      "rowLimit": 10000
     },
     "inputWidgets": {},
     "nuid": "486bb284-c5ff-4eb3-8952-438326305511",
     "showTitle": true,
     "tableResultSettingsMap": {},
     "title": "Update a Warehouse"
    }
   },
   "outputs": [],
   "source": [
    "-- https://docs.databricks.com/api/workspace/warehouses/edit\n",
    "create or replace function update_warehouse(\n",
    "  id string,\n",
    "  auto_stop_mins int default null,\n",
    "  channel_name string default 'CHANNEL_NAME_CURRENT',\n",
    "  cluster_size string default null,\n",
    "  creator_name string default null,\n",
    "  enable_serverless_compute string default null,\n",
    "  instance_profile_arn string default null,\n",
    "  max_num_clusters int default null,\n",
    "  min_num_clusters int default null,\n",
    "  name string default null,\n",
    "  spot_instance_policy string default null,\n",
    "  custom_tags array<struct<key:string,value:string>> default null,\n",
    "  warehouse_type string default null\n",
    ")\n",
    "comment 'Updates the configuration for a SQL warehouse. https://docs.databricks.com/api/workspace/warehouses/edit'\n",
    "return\n",
    "select\n",
    "  http_request(\n",
    "    conn => 'databricks_api',\n",
    "    method => 'POST',\n",
    "    path => concat('2.0/sql/warehouses/', id, '/edit'),\n",
    "    json => \n",
    "      to_json(\n",
    "        named_struct(\n",
    "          'auto_stop_mins', auto_stop_mins,\n",
    "          'channel', named_struct(\n",
    "            'dbsql_version', null,\n",
    "            'name', channel_name\n",
    "          ),\n",
    "          'cluster_size', cluster_size,\n",
    "          'creator_name', creator_name,\n",
    "          'enable_photon', true,\n",
    "          'enable_serverless_compute', enable_serverless_compute,\n",
    "          'instance_profile_arn', instance_profile_arn,\n",
    "          'max_num_clusters', max_num_clusters,\n",
    "          'min_num_clusters', min_num_clusters,\n",
    "          'name', name,\n",
    "          'spot_instance_policy', spot_instance_policy,\n",
    "          'tags', named_struct(\n",
    "            'custom_tags', custom_tags\n",
    "          ),\n",
    "          'warehouse_type', warehouse_type\n",
    "        )\n",
    "      )\n",
    "  ).text as resp;"
   ]
  },
  {
   "cell_type": "markdown",
   "metadata": {
    "application/vnd.databricks.v1+cell": {
     "cellMetadata": {},
     "inputWidgets": {},
     "nuid": "9783755b-6086-418e-8d95-734c4fcd2ca4",
     "showTitle": false,
     "tableResultSettingsMap": {},
     "title": ""
    }
   },
   "source": [
    "## Query History"
   ]
  },
  {
   "cell_type": "code",
   "execution_count": 0,
   "metadata": {
    "application/vnd.databricks.v1+cell": {
     "cellMetadata": {
      "byteLimit": 2048000,
      "rowLimit": 10000
     },
     "inputWidgets": {},
     "nuid": "318c4b46-b82b-4934-8dbd-d2d177f9a50b",
     "showTitle": true,
     "tableResultSettingsMap": {},
     "title": "List Queries"
    }
   },
   "outputs": [],
   "source": [
    "-- A python function is used only so that this solution can be reconciled using\n",
    "-- the Databricks SDK. Python and SQL functions don't return identical Unix timestamps.\n",
    "create or replace function unix_timestamp_ms(dt string)\n",
    "  returns bigint\n",
    "  deterministic\n",
    "  comment 'Returns the number of milliseconds since the Unix Epoch'\n",
    "  language python\n",
    "  as $$\n",
    "    from datetime import datetime\n",
    "    dt_object = datetime.strptime(dt, '%Y-%m-%d %H:%M:%S')\n",
    "    return int(dt_object.timestamp() * 1000)\n",
    "  $$;\n",
    "\n",
    "-- https://docs.databricks.com/api/workspace/queryhistory/list\n",
    "-- include_metrics type is string because of a bug related to boolean arguments\n",
    "create or replace function list_queries(\n",
    "  start_time_ms bigint,\n",
    "  end_time_ms bigint,\n",
    "  warehouse_ids array<string>,\n",
    "  page_token string,\n",
    "  max_results int default 100,\n",
    "  include_metrics string default 'true'\n",
    ")\n",
    "comment 'List the history of queries through SQL warehouses, and serverless compute. You can filter by user ID, warehouse ID, status, and time range. Most recently started queries are returned first (up to max_results in request). The pagination token returned in response can be used to list subsequent query statuses. https://docs.databricks.com/api/workspace/queryhistory/list'\n",
    "return\n",
    "select\n",
    "  http_request(\n",
    "    conn => 'databricks_api',\n",
    "    method => 'GET',\n",
    "    path => '2.0/sql/history/queries',\n",
    "    json => \n",
    "      to_json(\n",
    "        named_struct('filter_by',\n",
    "          named_struct('query_start_time_range',\n",
    "            named_struct('start_time_ms', start_time_ms, 'end_time_ms', end_time_ms),\n",
    "            'warehouse_ids', warehouse_ids\n",
    "          ),\n",
    "          'max_results', max_results,\n",
    "          'page_token', page_token,\n",
    "          'include_metrics', include_metrics\n",
    "        )\n",
    "      )\n",
    "  ).text as resp\n",
    "|> select\n",
    "     from_json(\n",
    "       resp,\n",
    "       'struct<has_next_page: boolean, next_page_token: string, res: array<struct<channel_used: struct<dbsql_version: string, name: string>, client_application: string, duration: bigint, endpoint_id: string, error_message: string, executed_as_user_id: bigint, executed_as_user_name: string, execution_end_time_ms: bigint, is_final: boolean, lookup_key: string, metrics: struct<compilation_time_ms: bigint, execution_time_ms: bigint, network_sent_bytes: bigint, overloading_queue_start_timestamp: bigint, photon_total_time_ms: bigint, provisioning_queue_start_timestamp: bigint, pruned_bytes: bigint, pruned_files_count: bigint, query_compilation_start_timestamp: bigint, read_bytes: bigint, read_cache_bytes: bigint, read_files_count: bigint, read_partitions_count: bigint, read_remote_bytes: bigint, result_fetch_time_ms: bigint, result_from_cache: boolean, rows_produced_count: bigint, rows_read_count: bigint, spill_to_disk_bytes: bigint, task_total_time_ms: bigint, total_time_ms: bigint, write_remote_bytes: bigint>, plans_state: string, query_end_time_ms: bigint, query_id: string, query_source: struct<alert_id: string, dashboard_id: string, genie_space_id: string, job_info: struct<job_id: string, job_run_id: string, job_task_run_id: string>, legacy_dashboard_id: string, notebook_id: string, sql_query_id: string>, query_start_time_ms: bigint, query_text: string, rows_produced: bigint, spark_ui_url: string, statement_type: string, status: string, user_id: bigint, user_name: string, warehouse_id: string>>>'\n",
    "     );"
   ]
  },
  {
   "cell_type": "markdown",
   "metadata": {
    "application/vnd.databricks.v1+cell": {
     "cellMetadata": {},
     "inputWidgets": {},
     "nuid": "90cabea1-6bb1-4847-9256-b77dbd70f11e",
     "showTitle": false,
     "tableResultSettingsMap": {},
     "title": ""
    }
   },
   "source": [
    "## Clustering Columns"
   ]
  },
  {
   "cell_type": "code",
   "execution_count": 0,
   "metadata": {
    "application/vnd.databricks.v1+cell": {
     "cellMetadata": {
      "byteLimit": 2048000,
      "rowLimit": 10000
     },
     "inputWidgets": {},
     "nuid": "d9d2eab1-9a83-43c8-9d07-9978804b39b6",
     "showTitle": true,
     "tableResultSettingsMap": {},
     "title": "Get Clustering Metadata"
    }
   },
   "outputs": [],
   "source": [
    "-- Stored procedure to return clustering columns metadata for a catalog, schema, or table\n",
    "CREATE OR REPLACE PROCEDURE get_clustering_metadata(\n",
    "  metadata_catalog_name STRING,\n",
    "  metadata_schema_name STRING DEFAULT NULL,\n",
    "  metadata_table_name STRING DEFAULT NULL\n",
    ")\n",
    "COMMENT 'Gets table metadata from information_schema with optional filtering by catalog, schema, and table name. Makes HTTP requests to get additional metadata from Databricks API.\n",
    "\n",
    "Parameters:\n",
    "- metadata_catalog_name (mandatory): The catalog name to filter by\n",
    "- metadata_schema_name (optional): The schema name to filter by\n",
    "- metadata_table_name (optional): The table name to filter by'\n",
    "SQL SECURITY INVOKER\n",
    "LANGUAGE SQL\n",
    "AS\n",
    "BEGIN\n",
    "  SELECT\n",
    "    table_catalog,\n",
    "    table_schema,\n",
    "    table_name,\n",
    "    table_type,\n",
    "    resp.data_source_format,\n",
    "    CASE\n",
    "      WHEN resp.properties.clusteringColumns IS NOT NULL THEN\n",
    "        from_json(resp.properties.clusteringColumns, 'array<array<string>>')\n",
    "      ELSE NULL\n",
    "    END AS clustering_columns\n",
    "  FROM (\n",
    "    SELECT\n",
    "      table_catalog,\n",
    "      table_schema,\n",
    "      table_name,\n",
    "      table_type,\n",
    "      get_table(table_catalog, table_schema, table_name) as resp\n",
    "    FROM IDENTIFIER(metadata_catalog_name || '.information_schema.tables')\n",
    "    WHERE table_catalog = metadata_catalog_name\n",
    "      AND (metadata_schema_name IS NULL OR table_schema = metadata_schema_name)\n",
    "      AND (metadata_table_name IS NULL OR table_name = metadata_table_name)\n",
    "  ) t;\n",
    "END;"
   ]
  },
  {
   "cell_type": "markdown",
   "metadata": {
    "application/vnd.databricks.v1+cell": {
     "cellMetadata": {},
     "inputWidgets": {},
     "nuid": "6e679e6a-3e82-4b00-9d61-ed4c63e1b42d",
     "showTitle": false,
     "tableResultSettingsMap": {},
     "title": ""
    }
   },
   "source": [
    "## Alerts"
   ]
  },
  {
   "cell_type": "code",
   "execution_count": 0,
   "metadata": {
    "application/vnd.databricks.v1+cell": {
     "cellMetadata": {
      "byteLimit": 2048000,
      "rowLimit": 10000
     },
     "inputWidgets": {},
     "nuid": "fde7df7c-fa16-414b-b655-2d3e901a2908",
     "showTitle": true,
     "tableResultSettingsMap": {},
     "title": "Create Alert"
    }
   },
   "outputs": [],
   "source": [
    "CREATE OR REPLACE FUNCTION create_alert(\n",
    "  -- Required\n",
    "  display_name STRING,\n",
    "  query_text STRING,\n",
    "  warehouse_id STRING,\n",
    "\n",
    "  -- Alert config\n",
    "  comparison_operator STRING DEFAULT 'GREATER_THAN',\n",
    "  threshold_value DOUBLE DEFAULT 0.0,\n",
    "  empty_result_state STRING DEFAULT 'UNKNOWN',\n",
    "\n",
    "  -- Notification\n",
    "  user_email STRING DEFAULT NULL,\n",
    "  notify_on_ok STRING DEFAULT 'true',\n",
    "  retrigger_seconds INT DEFAULT 0,\n",
    "\n",
    "  -- Schedule\n",
    "  cron_schedule STRING DEFAULT '0 */15 * * * ?',\n",
    "  timezone_id STRING DEFAULT 'UTC',\n",
    "  pause_status STRING DEFAULT 'UNPAUSED',\n",
    "\n",
    "  -- Optional\n",
    "  parent_path STRING DEFAULT '/Workspace/Users/',\n",
    "  source_aggregation STRING DEFAULT 'FIRST',\n",
    "  source_display STRING DEFAULT 'value',\n",
    "  source_name STRING DEFAULT 'value'\n",
    ")\n",
    "COMMENT 'Creates an alert. https://docs.databricks.com/api/workspace/alerts/create'\n",
    "RETURN\n",
    "WITH payload AS (\n",
    "  SELECT\n",
    "    to_json(\n",
    "      named_struct(\n",
    "        'display_name',         display_name,\n",
    "        'query_text',           query_text,          -- safely escaped by to_json\n",
    "        'parent_path',          parent_path,\n",
    "        'warehouse_id',         warehouse_id,\n",
    "        'evaluation', named_struct(\n",
    "          'comparison_operator', comparison_operator,\n",
    "          'empty_result_state',  empty_result_state,\n",
    "          'notification', named_struct(\n",
    "            'notify_on_ok',      notify_on_ok,\n",
    "            'retrigger_seconds', retrigger_seconds,\n",
    "            'subscriptions',\n",
    "              CASE\n",
    "                WHEN user_email IS NOT NULL\n",
    "                  THEN array(named_struct('user_email', user_email))\n",
    "                ELSE array()   -- empty array if no email\n",
    "              END\n",
    "          ),\n",
    "          'source', named_struct(\n",
    "            'aggregation', source_aggregation,\n",
    "            'display',     source_display,\n",
    "            'name',        source_name\n",
    "          ),\n",
    "          'threshold', named_struct(\n",
    "            'value', named_struct('double_value', threshold_value)\n",
    "          )\n",
    "        ),\n",
    "        'schedule', named_struct(\n",
    "          'pause_status',         pause_status,\n",
    "          'quartz_cron_schedule', cron_schedule,\n",
    "          'timezone_id',          timezone_id\n",
    "        )\n",
    "      )\n",
    "    ) AS json_body\n",
    ")\n",
    "SELECT\n",
    "  http_request(\n",
    "    conn   => 'databricks_api',\n",
    "    method => 'POST',\n",
    "    path   => '2.0/alerts',\n",
    "    json   => json_body\n",
    "  ).text AS resp\n",
    "FROM payload\n",
    "|> select\n",
    "     from_json(\n",
    "       resp,\n",
    "       'STRUCT<condition: STRUCT<op: STRING, operand: STRUCT<column: STRUCT<name: STRING>>, threshold: STRUCT<value: STRUCT<double_value: BIGINT>>>, create_time: STRING, display_name: STRING, id: STRING, lifecycle_state: STRING, owner_user_name: STRING, parent_path: STRING, query_id: STRING, seconds_to_retrigger: BIGINT, state: STRING, update_time: STRING>'\n",
    "     );"
   ]
  }
 ],
 "metadata": {
  "application/vnd.databricks.v1+notebook": {
   "computePreferences": null,
   "dashboards": [],
   "environmentMetadata": null,
   "inputWidgetPreferences": null,
   "language": "sql",
   "notebookMetadata": {
    "pythonIndentUnit": 2
   },
   "notebookName": "create_functions",
   "widgets": {
    "catalog": {
     "currentValue": "users",
     "nuid": "ad432de6-512d-4b19-9fc3-f5e0e45c9053",
     "typedWidgetInfo": {
      "autoCreated": false,
      "defaultValue": "main",
      "label": "01 Catalog",
      "name": "catalog",
      "options": {
       "widgetDisplayType": "Text",
       "validationRegex": null
      },
      "parameterDataType": "String"
     },
     "widgetInfo": {
      "widgetType": "text",
      "defaultValue": "main",
      "label": "01 Catalog",
      "name": "catalog",
      "options": {
       "widgetType": "text",
       "autoCreated": false,
       "validationRegex": null
      }
     }
    },
    "schema": {
     "currentValue": "chris_koester",
     "nuid": "93af6528-04ba-4ff5-9811-0aaff402f97f",
     "typedWidgetInfo": {
      "autoCreated": false,
      "defaultValue": "databricks_api",
      "label": "02 Schema",
      "name": "schema",
      "options": {
       "widgetDisplayType": "Text",
       "validationRegex": null
      },
      "parameterDataType": "String"
     },
     "widgetInfo": {
      "widgetType": "text",
      "defaultValue": "databricks_api",
      "label": "02 Schema",
      "name": "schema",
      "options": {
       "widgetType": "text",
       "autoCreated": false,
       "validationRegex": null
      }
     }
    }
   }
  },
  "language_info": {
   "name": "sql"
  }
 },
 "nbformat": 4,
 "nbformat_minor": 0
}
