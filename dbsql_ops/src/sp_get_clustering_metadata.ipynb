{
 "cells": [
  {
   "cell_type": "code",
   "execution_count": null,
   "metadata": {},
   "outputs": [],
   "source": [
    "use catalog identifier(:catalog);\n",
    "use schema identifier(:schema);"
   ]
  },
  {
   "cell_type": "code",
   "execution_count": 0,
   "metadata": {
    "application/vnd.databricks.v1+cell": {
     "cellMetadata": {},
     "inputWidgets": {},
     "nuid": "d1770c8d-a258-4da1-acce-9c510b4e7f46",
     "showTitle": false,
     "tableResultSettingsMap": {},
     "title": ""
    }
   },
   "outputs": [],
   "source": [
    "\n",
    "CREATE OR REPLACE PROCEDURE get_clustering_metadata(\n",
    "  metadata_catalog_name STRING,\n",
    "  metadata_schema_name STRING DEFAULT NULL,\n",
    "  metadata_table_name STRING DEFAULT NULL\n",
    ")\n",
    "COMMENT 'Gets table metadata from information_schema with optional filtering by catalog, schema, and table name. Makes HTTP requests to get additional metadata from Databricks API.\n",
    "\n",
    "Parameters:\n",
    "- metadata_catalog_name (mandatory): The catalog name to filter by\n",
    "- metadata_schema_name (optional): The schema name to filter by\n",
    "- metadata_table_name (optional): The table name to filter by'\n",
    "SQL SECURITY INVOKER\n",
    "LANGUAGE SQL\n",
    "AS\n",
    "BEGIN\n",
    "  SELECT\n",
    "    table_catalog,\n",
    "    table_schema,\n",
    "    table_name,\n",
    "    table_type,\n",
    "    resp.data_source_format,\n",
    "    CASE\n",
    "      WHEN resp.properties.clusteringColumns IS NOT NULL THEN\n",
    "        from_json(resp.properties.clusteringColumns, 'array<array<string>>')\n",
    "      ELSE NULL\n",
    "    END AS clustering_columns\n",
    "  FROM (\n",
    "    SELECT\n",
    "      table_catalog,\n",
    "      table_schema,\n",
    "      table_name,\n",
    "      table_type,\n",
    "      get_table(table_catalog, table_schema, table_name) as resp\n",
    "    FROM IDENTIFIER(metadata_catalog_name || '.information_schema.tables')\n",
    "    WHERE table_catalog = metadata_catalog_name\n",
    "      AND (metadata_schema_name IS NULL OR table_schema = metadata_schema_name)\n",
    "      AND (metadata_table_name IS NULL OR table_name = metadata_table_name)\n",
    "  ) t;\n",
    "END;"
   ]
  }
 ],
 "metadata": {
  "application/vnd.databricks.v1+notebook": {
   "computePreferences": null,
   "dashboards": [],
   "environmentMetadata": {
    "base_environment": "dbe_f14fbde8-5353-4144-89be-f0a3e93fffc9",
    "environment_version": "2"
   },
   "inputWidgetPreferences": null,
   "language": "sql",
   "notebookMetadata": {},
   "notebookName": "Untitled Notebook 2025-08-19 16:38:59",
   "widgets": {
    "catalog": {
     "currentValue": "users",
     "nuid": "fcce6b0d-4a76-49c5-9817-9d3d1ab6a0aa",
     "typedWidgetInfo": {
      "autoCreated": false,
      "defaultValue": "",
      "label": "",
      "name": "catalog",
      "options": {
       "validationRegex": null,
       "widgetDisplayType": "Text"
      },
      "parameterDataType": "String"
     },
     "widgetInfo": {
      "defaultValue": "",
      "label": "",
      "name": "catalog",
      "options": {
       "autoCreated": false,
       "validationRegex": null,
       "widgetType": "text"
      },
      "widgetType": "text"
     }
    },
    "schema": {
     "currentValue": "chris_koester",
     "nuid": "23f89ddc-c050-4ff1-9c47-81ffd9b69a7f",
     "typedWidgetInfo": {
      "autoCreated": false,
      "defaultValue": "",
      "label": "",
      "name": "schema",
      "options": {
       "validationRegex": null,
       "widgetDisplayType": "Text"
      },
      "parameterDataType": "String"
     },
     "widgetInfo": {
      "defaultValue": "",
      "label": "",
      "name": "schema",
      "options": {
       "autoCreated": false,
       "validationRegex": null,
       "widgetType": "text"
      },
      "widgetType": "text"
     }
    }
   }
  },
  "language_info": {
   "name": "sql"
  }
 },
 "nbformat": 4,
 "nbformat_minor": 0
}
