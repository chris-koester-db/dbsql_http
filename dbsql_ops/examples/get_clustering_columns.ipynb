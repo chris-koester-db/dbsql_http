{
 "cells": [
  {
   "cell_type": "code",
   "execution_count": null,
   "id": "9ebb3d6d",
   "metadata": {
    "vscode": {
     "languageId": "sql"
    }
   },
   "outputs": [],
   "source": [
    "use catalog identifier(:catalog);\n",
    "use schema identifier(:schema);"
   ]
  },
  {
   "cell_type": "markdown",
   "id": "b04b8d9f",
   "metadata": {},
   "source": [
    "## Example Usage"
   ]
  },
  {
   "cell_type": "code",
   "execution_count": null,
   "id": "964b98c0",
   "metadata": {
    "vscode": {
     "languageId": "sql"
    }
   },
   "outputs": [],
   "source": [
    "select * from get_clustering_metadata('aa_catalog') as t;"
   ]
  },
  {
   "cell_type": "code",
   "execution_count": null,
   "id": "d68ce953",
   "metadata": {
    "vscode": {
     "languageId": "sql"
    }
   },
   "outputs": [],
   "source": [
    "select * from get_clustering_metadata('aa_catalog', 'dw_ops') as t;"
   ]
  },
  {
   "cell_type": "code",
   "execution_count": null,
   "id": "3980309a",
   "metadata": {
    "vscode": {
     "languageId": "sql"
    }
   },
   "outputs": [],
   "source": [
    "select * from get_clustering_metadata('aa_catalog', 'dw_ops', 'enrollments') as t;"
   ]
  }
 ],
 "metadata": {
  "language_info": {
   "name": "python"
  }
 },
 "nbformat": 4,
 "nbformat_minor": 5
}
