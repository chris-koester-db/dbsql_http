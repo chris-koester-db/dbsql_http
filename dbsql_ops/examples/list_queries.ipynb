{
 "cells": [
  {
   "cell_type": "markdown",
   "metadata": {
    "application/vnd.databricks.v1+cell": {
     "cellMetadata": {},
     "inputWidgets": {},
     "nuid": "fca1b6aa-69cb-413d-b541-5f96cb9b32b3",
     "showTitle": false,
     "tableResultSettingsMap": {},
     "title": ""
    }
   },
   "source": [
    "Beta solution showing how to page through API results sequentially, which is a common pattern when returning a large number of results from an API.\n",
    "\n",
    "Notebook Widgets:\n",
    "- start_time and end_time must use the format `2025-04-28 15:40:49`\n",
    "- warehouse_ids can be provided as a single value (4b9b953939869799) or a comma separated list (4b9b953939869799,4b9b953939869800)"
   ]
  },
  {
   "cell_type": "code",
   "execution_count": 0,
   "metadata": {
    "application/vnd.databricks.v1+cell": {
     "cellMetadata": {
      "byteLimit": 2048000,
      "rowLimit": 10000
     },
     "inputWidgets": {},
     "nuid": "cf56179a-e994-4867-a404-e4bf3778a791",
     "showTitle": false,
     "tableResultSettingsMap": {},
     "title": ""
    }
   },
   "outputs": [],
   "source": [
    "use catalog identifier(:catalog);\n",
    "use schema identifier(:schema);"
   ]
  },
  {
   "cell_type": "code",
   "execution_count": 0,
   "metadata": {
    "application/vnd.databricks.v1+cell": {
     "cellMetadata": {
      "byteLimit": 2048000,
      "rowLimit": 10000
     },
     "inputWidgets": {},
     "nuid": "69a99a8b-d4f8-401d-8340-f22f08746617",
     "showTitle": false,
     "tableResultSettingsMap": {},
     "title": ""
    }
   },
   "outputs": [],
   "source": [
    "begin\n",
    "  declare start_time bigint;\n",
    "  declare end_time bigint;\n",
    "  declare resp struct<has_next_page: boolean, next_page_token: string, res: array<struct<channel_used: struct<dbsql_version: string, name: string>, client_application: string, duration: bigint, endpoint_id: string, error_message: string, executed_as_user_id: bigint, executed_as_user_name: string, execution_end_time_ms: bigint, is_final: boolean, lookup_key: string, metrics: struct<compilation_time_ms: bigint, execution_time_ms: bigint, network_sent_bytes: bigint, overloading_queue_start_timestamp: bigint, photon_total_time_ms: bigint, provisioning_queue_start_timestamp: bigint, pruned_bytes: bigint, pruned_files_count: bigint, query_compilation_start_timestamp: bigint, read_bytes: bigint, read_cache_bytes: bigint, read_files_count: bigint, read_partitions_count: bigint, read_remote_bytes: bigint, result_fetch_time_ms: bigint, result_from_cache: boolean, rows_produced_count: bigint, rows_read_count: bigint, spill_to_disk_bytes: bigint, task_total_time_ms: bigint, total_time_ms: bigint, write_remote_bytes: bigint>, plans_state: string, query_end_time_ms: bigint, query_id: string, query_source: struct<alert_id: string, dashboard_id: string, genie_space_id: string, job_info: struct<job_id: string, job_run_id: string, job_task_run_id: string>, legacy_dashboard_id: string, notebook_id: string, sql_query_id: string>, query_start_time_ms: bigint, query_text: string, rows_produced: bigint, spark_ui_url: string, statement_type: string, status: string, user_id: bigint, user_name: string, warehouse_id: string>>>;\n",
    "  \n",
    "  -- TODO: determine how to remove redundant schema\n",
    "  declare res_array array<struct<channel_used:struct<dbsql_version:string,name:string>,client_application:string,duration:bigint,endpoint_id:string,error_message:string,executed_as_user_id:bigint,executed_as_user_name:string,execution_end_time_ms:bigint,is_final:boolean,lookup_key:string,metrics:struct<compilation_time_ms:bigint,execution_time_ms:bigint,network_sent_bytes:bigint,overloading_queue_start_timestamp:bigint,photon_total_time_ms:bigint,provisioning_queue_start_timestamp:bigint,pruned_bytes:bigint,pruned_files_count:bigint,query_compilation_start_timestamp:bigint,read_bytes:bigint,read_cache_bytes:bigint,read_files_count:bigint,read_partitions_count:bigint,read_remote_bytes:bigint,result_fetch_time_ms:bigint,result_from_cache:boolean,rows_produced_count:bigint,rows_read_count:bigint,spill_to_disk_bytes:bigint,task_total_time_ms:bigint,total_time_ms:bigint,write_remote_bytes:bigint>,plans_state:string,query_end_time_ms:bigint,query_id:string,query_source:struct<alert_id:string,dashboard_id:string,genie_space_id:string,job_info:struct<job_id:string,job_run_id:string,job_task_run_id:string>,legacy_dashboard_id:string,notebook_id:string,sql_query_id:string>,query_start_time_ms:bigint,query_text:string,rows_produced:bigint,spark_ui_url:string,statement_type:string,status:string,user_id:bigint,user_name:string,warehouse_id:string>>;\n",
    "  \n",
    "  declare page_token string;\n",
    "  declare arg_map map<string, string>;\n",
    "  \n",
    "  set start_time = (select unix_timestamp_ms(:start_time));\n",
    "  set end_time = (select unix_timestamp_ms(:end_time));\n",
    "  \n",
    "  -- Get first page of results\n",
    "  set resp = (\n",
    "    select list_queries(\n",
    "      start_time_ms => start_time,\n",
    "      end_time_ms => end_time,\n",
    "      warehouse_ids => split(:warehouse_ids, ','),\n",
    "      max_results => 1000,\n",
    "      page_token => null,\n",
    "      include_metrics => true\n",
    "    )\n",
    "  );\n",
    "  \n",
    "  -- Add results to res_array variable\n",
    "  set res_array = resp.res;\n",
    "  \n",
    "  -- Set token for next page of results. Will be null of not present.\n",
    "  set page_token = resp.next_page_token;\n",
    "  \n",
    "  -- Get remaining pages of results\n",
    "  get_qry_hist: while page_token is not null do\n",
    "    set resp = (\n",
    "      select list_queries(\n",
    "        start_time_ms => start_time,\n",
    "        end_time_ms => end_time,\n",
    "        warehouse_ids => split(:warehouse_ids, ','),\n",
    "        max_results => 1000,\n",
    "        page_token => page_token,\n",
    "        include_metrics => true\n",
    "      )\n",
    "    );\n",
    "\n",
    "    set res_array = array_union(res_array, resp.res);\n",
    "\n",
    "    -- Set token for next page of results. Will be null of not present.\n",
    "    set page_token = resp.next_page_token;\n",
    "  end while;\n",
    "  \n",
    "  -- Explode array of results and select desired columns\n",
    "  -- Filter out placeholder used to infer schema\n",
    "  from (select explode(res_array))\n",
    "  |> select\n",
    "       col.query_id,\n",
    "       col.status,\n",
    "       col.query_text,\n",
    "       col.query_start_time_ms,\n",
    "       col.execution_end_time_ms,\n",
    "       col.query_end_time_ms,\n",
    "       col.user_id,\n",
    "       col.user_name,\n",
    "       col.spark_ui_url,\n",
    "       col.warehouse_id,\n",
    "       col.error_message,\n",
    "       col.rows_produced,\n",
    "       col.metrics,\n",
    "       col.is_final,\n",
    "       col.channel_used,\n",
    "       col.duration,\n",
    "       col.executed_as_user_id,\n",
    "       col.executed_as_user_name,\n",
    "       col.plans_state,\n",
    "       col.statement_type;\n",
    "end;"
   ]
  }
 ],
 "metadata": {
  "application/vnd.databricks.v1+notebook": {
   "computePreferences": null,
   "dashboards": [],
   "environmentMetadata": null,
   "inputWidgetPreferences": null,
   "language": "sql",
   "notebookMetadata": {
    "pythonIndentUnit": 2
   },
   "notebookName": "list_queries",
   "widgets": {
    "catalog": {
     "currentValue": "users",
     "nuid": "2e6f2c86-e4ff-4776-b40b-60f1fb0e5e87",
     "typedWidgetInfo": {
      "autoCreated": false,
      "defaultValue": "users",
      "label": "01 Catalog",
      "name": "catalog",
      "options": {
       "widgetDisplayType": "Text",
       "validationRegex": null
      },
      "parameterDataType": "String"
     },
     "widgetInfo": {
      "widgetType": "text",
      "defaultValue": "users",
      "label": "01 Catalog",
      "name": "catalog",
      "options": {
       "widgetType": "text",
       "autoCreated": false,
       "validationRegex": null
      }
     }
    },
    "end_time": {
     "currentValue": "2025-04-28 15:40:49",
     "nuid": "675cdf9c-e68a-41eb-be7a-2a18e4ce06f8",
     "typedWidgetInfo": {
      "autoCreated": false,
      "defaultValue": "2025-04-28 15:40:49",
      "label": "04 End Time",
      "name": "end_time",
      "options": {
       "widgetDisplayType": "Text",
       "validationRegex": null
      },
      "parameterDataType": "String"
     },
     "widgetInfo": {
      "widgetType": "text",
      "defaultValue": "2025-04-28 15:40:49",
      "label": "04 End Time",
      "name": "end_time",
      "options": {
       "widgetType": "text",
       "autoCreated": false,
       "validationRegex": null
      }
     }
    },
    "schema": {
     "currentValue": "chris_koester",
     "nuid": "339ab630-d977-44d4-aeea-afe7bcf7c1ca",
     "typedWidgetInfo": {
      "autoCreated": false,
      "defaultValue": "databricks_api",
      "label": "02 Schema",
      "name": "schema",
      "options": {
       "widgetDisplayType": "Text",
       "validationRegex": null
      },
      "parameterDataType": "String"
     },
     "widgetInfo": {
      "widgetType": "text",
      "defaultValue": "databricks_api",
      "label": "02 Schema",
      "name": "schema",
      "options": {
       "widgetType": "text",
       "autoCreated": false,
       "validationRegex": null
      }
     }
    },
    "start_time": {
     "currentValue": "2025-04-28 10:40:49",
     "nuid": "d1841ef8-4c72-46b8-be3a-ce0c00192be9",
     "typedWidgetInfo": {
      "autoCreated": false,
      "defaultValue": "2025-04-28 10:40:49",
      "label": "03 Start Time",
      "name": "start_time",
      "options": {
       "widgetDisplayType": "Text",
       "validationRegex": null
      },
      "parameterDataType": "String"
     },
     "widgetInfo": {
      "widgetType": "text",
      "defaultValue": "2025-04-28 10:40:49",
      "label": "03 Start Time",
      "name": "start_time",
      "options": {
       "widgetType": "text",
       "autoCreated": false,
       "validationRegex": null
      }
     }
    },
    "warehouse_ids": {
     "currentValue": "4b9b953939869799,4b9b953939869800",
     "nuid": "0610d298-b605-4fc0-810a-98cdcf5bceac",
     "typedWidgetInfo": {
      "autoCreated": false,
      "defaultValue": "4b9b953939869799,4b9b953939869800",
      "label": "05 Warehouse IDs",
      "name": "warehouse_ids",
      "options": {
       "widgetDisplayType": "Text",
       "validationRegex": null
      },
      "parameterDataType": "String"
     },
     "widgetInfo": {
      "widgetType": "text",
      "defaultValue": "4b9b953939869799,4b9b953939869800",
      "label": "05 Warehouse IDs",
      "name": "warehouse_ids",
      "options": {
       "widgetType": "text",
       "autoCreated": false,
       "validationRegex": null
      }
     }
    }
   }
  },
  "language_info": {
   "name": "sql"
  }
 },
 "nbformat": 4,
 "nbformat_minor": 0
}
