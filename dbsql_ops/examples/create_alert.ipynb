{
 "cells": [
  {
   "cell_type": "code",
   "execution_count": null,
   "id": "27243d74",
   "metadata": {
    "vscode": {
     "languageId": "sql"
    }
   },
   "outputs": [],
   "source": [
    "use catalog identifier(:catalog);\n",
    "use schema identifier(:schema);"
   ]
  },
  {
   "cell_type": "code",
   "execution_count": null,
   "id": "4971bd1f",
   "metadata": {
    "vscode": {
     "languageId": "sql"
    }
   },
   "outputs": [],
   "source": [
    "-- =============================================================================\n",
    "-- USAGE EXAMPLES\n",
    "-- =============================================================================\n",
    "-- Basic Alert (Count Monitoring):\n",
    "select aa_catalog.dw_ops.create_alert(\n",
    "   display_name => :alert_name,\n",
    "   query_text => :alert_query, -- like: 'select 25 as error_count',\n",
    "   warehouse_id => :warehouse_id,\n",
    "  comparison_operator => :comparison_operator, -- like: 'GREATER_THAN',\n",
    "  threshold_value => :threshold_value, -- like: 10,\n",
    "  user_email => :user_email, -- like: 'akshay.amin@databricks.com',\n",
    "  cron_schedule => :cron_schedule, -- like: '0 */5 * * * ?',\n",
    "  source_display => :source_display, -- like: 'error_count',\n",
    "  source_name => :source_name, -- like: 'error_count',\n",
    "  parent_path => :parent_path -- like: '/Workspace/Users/akshay.amin@databricks.com/offerings/dw_ops/dbsql_http/jobs'\n",
    ");"
   ]
  }
 ],
 "metadata": {
  "language_info": {
   "name": "python"
  }
 },
 "nbformat": 4,
 "nbformat_minor": 5
}
