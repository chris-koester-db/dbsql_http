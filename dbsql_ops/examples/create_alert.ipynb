{
 "cells": [
  {
   "cell_type": "code",
   "execution_count": 0,
   "metadata": {
    "application/vnd.databricks.v1+cell": {
     "cellMetadata": {
      "byteLimit": 2048000,
      "rowLimit": 10000
     },
     "inputWidgets": {},
     "nuid": "1b22a30c-fbbb-496b-9a92-e05bb8bba35d",
     "showTitle": false,
     "tableResultSettingsMap": {},
     "title": ""
    },
    "vscode": {
     "languageId": "sql"
    }
   },
   "outputs": [
    {
     "output_type": "display_data",
     "data": {
      "text/html": [
       "<style scoped>\n",
       "  .table-result-container {\n",
       "    max-height: 300px;\n",
       "    overflow: auto;\n",
       "  }\n",
       "  table, th, td {\n",
       "    border: 1px solid black;\n",
       "    border-collapse: collapse;\n",
       "  }\n",
       "  th, td {\n",
       "    padding: 5px;\n",
       "  }\n",
       "  th {\n",
       "    text-align: left;\n",
       "  }\n",
       "</style><div class='table-result-container'><table class='table-result'><thead style='background-color: white'><tr></tr></thead><tbody></tbody></table></div>"
      ]
     },
     "metadata": {
      "application/vnd.databricks.v1+output": {
       "addedWidgets": {},
       "aggData": [],
       "aggError": "",
       "aggOverflow": false,
       "aggSchema": [],
       "aggSeriesLimitReached": false,
       "aggType": "",
       "arguments": {},
       "columnCustomDisplayInfos": {},
       "data": [],
       "datasetInfos": [],
       "dbfsResultPath": null,
       "isJsonSchema": true,
       "metadata": {},
       "overflow": false,
       "plotOptions": {
        "customPlotOptions": {},
        "displayType": "table",
        "pivotAggregation": null,
        "pivotColumns": null,
        "xColumns": null,
        "yColumns": null
       },
       "removedWidgets": [],
       "schema": [],
       "type": "table"
      }
     },
     "output_type": "display_data"
    },
    {
     "output_type": "display_data",
     "data": {
      "text/html": [
       "<style scoped>\n",
       "  .table-result-container {\n",
       "    max-height: 300px;\n",
       "    overflow: auto;\n",
       "  }\n",
       "  table, th, td {\n",
       "    border: 1px solid black;\n",
       "    border-collapse: collapse;\n",
       "  }\n",
       "  th, td {\n",
       "    padding: 5px;\n",
       "  }\n",
       "  th {\n",
       "    text-align: left;\n",
       "  }\n",
       "</style><div class='table-result-container'><table class='table-result'><thead style='background-color: white'><tr></tr></thead><tbody></tbody></table></div>"
      ]
     },
     "metadata": {
      "application/vnd.databricks.v1+output": {
       "addedWidgets": {},
       "aggData": [],
       "aggError": "",
       "aggOverflow": false,
       "aggSchema": [],
       "aggSeriesLimitReached": false,
       "aggType": "",
       "arguments": {},
       "columnCustomDisplayInfos": {},
       "data": [],
       "datasetInfos": [],
       "dbfsResultPath": null,
       "isJsonSchema": true,
       "metadata": {},
       "overflow": false,
       "plotOptions": {
        "customPlotOptions": {},
        "displayType": "table",
        "pivotAggregation": null,
        "pivotColumns": null,
        "xColumns": null,
        "yColumns": null
       },
       "removedWidgets": [],
       "schema": [],
       "type": "table"
      }
     },
     "output_type": "display_data"
    }
   ],
   "source": [
    "use catalog identifier(:catalog);\n",
    "use schema identifier(:schema);"
   ]
  },
  {
   "cell_type": "code",
   "execution_count": 0,
   "metadata": {
    "application/vnd.databricks.v1+cell": {
     "cellMetadata": {
      "byteLimit": 2048000,
      "rowLimit": 10000
     },
     "inputWidgets": {},
     "nuid": "2d92c9b0-1ff8-413a-b91d-9e9352d25dcf",
     "showTitle": false,
     "tableResultSettingsMap": {
      "0": {
       "dataGridStateBlob": "{\"version\":1,\"tableState\":{\"columnPinning\":{\"left\":[\"#row_number#\"],\"right\":[]},\"columnSizing\":{},\"columnVisibility\":{}},\"settings\":{\"columns\":{}},\"syncTimestamp\":1755618233239}",
       "filterBlob": null,
       "queryPlanFiltersBlob": null,
       "tableResultIndex": 0
      }
     },
     "title": ""
    },
    "vscode": {
     "languageId": "sql"
    }
   },
   "outputs": [
    {
     "output_type": "display_data",
     "data": {
      "text/html": [
       "<style scoped>\n",
       "  .table-result-container {\n",
       "    max-height: 300px;\n",
       "    overflow: auto;\n",
       "  }\n",
       "  table, th, td {\n",
       "    border: 1px solid black;\n",
       "    border-collapse: collapse;\n",
       "  }\n",
       "  th, td {\n",
       "    padding: 5px;\n",
       "  }\n",
       "  th {\n",
       "    text-align: left;\n",
       "  }\n",
       "</style><div class='table-result-container'><table class='table-result'><thead style='background-color: white'><tr><th>aa_catalog.dw_ops.create_alert(a4, select 25 as error_count, 8baced1ff014912d, GREATER_THAN, 10, UNKNOWN, akshay.amin@databricks.com, true, 0, 0 */5 * * * ?, UTC, UNPAUSED, /Workspace/Users/akshay.amin@databricks.com/offerings/dw_ops/dbsql_http/jobs, FIRST, error_count, error_count)</th></tr></thead><tbody><tr><td>{\"id\":\"3426381942697595\",\"display_name\":\"a4\",\"owner_user_name\":\"akshay.amin@databricks.com\",\"create_time\":\"2025-08-19T15:44:50Z\",\"update_time\":\"2025-08-19T15:44:50Z\",\"parent_path\":\"/Workspace/Users/akshay.amin@databricks.com/offerings/dw_ops/dbsql_http/jobs\",\"query_text\":\"select 25 as error_count\",\"warehouse_id\":\"8baced1ff014912d\",\"run_as_user_name\":\"akshay.amin@databricks.com\",\"evaluation\":{\"source\":{\"name\":\"error_count\",\"display\":\"error_count\"},\"comparison_operator\":\"GREATER_THAN\",\"threshold\":{\"value\":{\"double_value\":10.0}},\"notification\":{\"subscriptions\":[{\"user_email\":\"akshay.amin@databricks.com\"}],\"retrigger_seconds\":0,\"notify_on_ok\":true},\"state\":\"UNKNOWN\",\"empty_result_state\":\"UNKNOWN\"},\"schedule\":{\"quartz_cron_schedule\":\"0 */5 * * * ?\",\"timezone_id\":\"UTC\",\"pause_status\":\"UNPAUSED\"},\"lifecycle_state\":\"ACTIVE\",\"effective_run_as\":{\"user_name\":\"akshay.amin@databricks.com\"}}</td></tr></tbody></table></div>"
      ]
     },
     "metadata": {
      "application/vnd.databricks.v1+output": {
       "addedWidgets": {},
       "aggData": [],
       "aggError": "",
       "aggOverflow": false,
       "aggSchema": [],
       "aggSeriesLimitReached": false,
       "aggType": "",
       "arguments": {},
       "columnCustomDisplayInfos": {},
       "data": [
        [
         "{\"id\":\"3426381942697595\",\"display_name\":\"a4\",\"owner_user_name\":\"akshay.amin@databricks.com\",\"create_time\":\"2025-08-19T15:44:50Z\",\"update_time\":\"2025-08-19T15:44:50Z\",\"parent_path\":\"/Workspace/Users/akshay.amin@databricks.com/offerings/dw_ops/dbsql_http/jobs\",\"query_text\":\"select 25 as error_count\",\"warehouse_id\":\"8baced1ff014912d\",\"run_as_user_name\":\"akshay.amin@databricks.com\",\"evaluation\":{\"source\":{\"name\":\"error_count\",\"display\":\"error_count\"},\"comparison_operator\":\"GREATER_THAN\",\"threshold\":{\"value\":{\"double_value\":10.0}},\"notification\":{\"subscriptions\":[{\"user_email\":\"akshay.amin@databricks.com\"}],\"retrigger_seconds\":0,\"notify_on_ok\":true},\"state\":\"UNKNOWN\",\"empty_result_state\":\"UNKNOWN\"},\"schedule\":{\"quartz_cron_schedule\":\"0 */5 * * * ?\",\"timezone_id\":\"UTC\",\"pause_status\":\"UNPAUSED\"},\"lifecycle_state\":\"ACTIVE\",\"effective_run_as\":{\"user_name\":\"akshay.amin@databricks.com\"}}"
        ]
       ],
       "datasetInfos": [],
       "dbfsResultPath": null,
       "isJsonSchema": true,
       "metadata": {},
       "overflow": false,
       "plotOptions": {
        "customPlotOptions": {},
        "displayType": "table",
        "pivotAggregation": null,
        "pivotColumns": null,
        "xColumns": null,
        "yColumns": null
       },
       "removedWidgets": [],
       "schema": [
        {
         "metadata": "{}",
         "name": "aa_catalog.dw_ops.create_alert(a4, select 25 as error_count, 8baced1ff014912d, GREATER_THAN, 10, UNKNOWN, akshay.amin@databricks.com, true, 0, 0 */5 * * * ?, UTC, UNPAUSED, /Workspace/Users/akshay.amin@databricks.com/offerings/dw_ops/dbsql_http/jobs, FIRST, error_count, error_count)",
         "type": "\"string\""
        }
       ],
       "type": "table"
      }
     },
     "output_type": "display_data"
    }
   ],
   "source": [
    "%sql\n",
    "--USAGE EXAMPLE\n",
    "-- Basic Alert (Count Monitoring):\n",
    "select create_alert(\n",
    "   display_name => :alert_name,\n",
    "   query_text => :alert_query, -- like: 'select 25 as error_count',\n",
    "   warehouse_id => :warehouse_id,\n",
    "  comparison_operator => :comparison_operator, -- like: 'GREATER_THAN',\n",
    "  threshold_value => :threshold_value, -- like: 10,\n",
    "  user_email => :user_email, -- like: 'akshay.amin@databricks.com',\n",
    "  cron_schedule => :cron_schedule, -- like: '0 */5 * * * ?',\n",
    "  source_display => :source_display, -- like: 'error_count',\n",
    "  source_name => :source_name, -- like: 'error_count',\n",
    "  parent_path => :parent_path -- like: '/Workspace/Users/akshay.amin@databricks.com/offerings/dw_ops/dbsql_http/jobs'\n",
    ");"
   ]
  },
  {
   "cell_type": "code",
   "execution_count": 0,
   "metadata": {
    "application/vnd.databricks.v1+cell": {
     "cellMetadata": {},
     "inputWidgets": {},
     "nuid": "d1bc2bb9-efa6-42b7-b2df-fe26dc632278",
     "showTitle": false,
     "tableResultSettingsMap": {},
     "title": ""
    }
   },
   "outputs": [],
   "source": []
  }
 ],
 "metadata": {
  "application/vnd.databricks.v1+notebook": {
   "computePreferences": null,
   "dashboards": [],
   "environmentMetadata": null,
   "inputWidgetPreferences": null,
   "language": "sql",
   "notebookMetadata": {
    "pythonIndentUnit": 2
   },
   "notebookName": "create_alert",
   "widgets": {
    "alert_name": {
     "currentValue": "a4",
     "nuid": "3706489c-d0e8-4876-bc44-fb77a65a2942",
     "typedWidgetInfo": {
      "autoCreated": true,
      "defaultValue": "",
      "label": null,
      "name": "alert_name",
      "options": {
       "widgetDisplayType": "Text",
       "validationRegex": null
      },
      "parameterDataType": "String"
     },
     "widgetInfo": {
      "widgetType": "text",
      "defaultValue": "",
      "label": null,
      "name": "alert_name",
      "options": {
       "widgetType": "text",
       "autoCreated": true,
       "validationRegex": null
      }
     }
    },
    "alert_query": {
     "currentValue": "select 25 as error_count",
     "nuid": "c752436b-5c94-4c1a-8686-8a4f4ae931ca",
     "typedWidgetInfo": {
      "autoCreated": true,
      "defaultValue": "",
      "label": null,
      "name": "alert_query",
      "options": {
       "widgetDisplayType": "Text",
       "validationRegex": null
      },
      "parameterDataType": "String"
     },
     "widgetInfo": {
      "widgetType": "text",
      "defaultValue": "",
      "label": null,
      "name": "alert_query",
      "options": {
       "widgetType": "text",
       "autoCreated": true,
       "validationRegex": null
      }
     }
    },
    "catalog": {
     "currentValue": "aa_catalog",
     "nuid": "ce2b277a-4cd7-4e3a-934f-6384a72bf818",
     "typedWidgetInfo": {
      "autoCreated": true,
      "defaultValue": "",
      "label": null,
      "name": "catalog",
      "options": {
       "widgetDisplayType": "Text",
       "validationRegex": null
      },
      "parameterDataType": "String"
     },
     "widgetInfo": {
      "widgetType": "text",
      "defaultValue": "",
      "label": null,
      "name": "catalog",
      "options": {
       "widgetType": "text",
       "autoCreated": true,
       "validationRegex": null
      }
     }
    },
    "comparison_operator": {
     "currentValue": "GREATER_THAN",
     "nuid": "4edd377e-f997-46ba-81c4-13b34e5f1ed1",
     "typedWidgetInfo": {
      "autoCreated": true,
      "defaultValue": "",
      "label": null,
      "name": "comparison_operator",
      "options": {
       "widgetDisplayType": "Text",
       "validationRegex": null
      },
      "parameterDataType": "String"
     },
     "widgetInfo": {
      "widgetType": "text",
      "defaultValue": "",
      "label": null,
      "name": "comparison_operator",
      "options": {
       "widgetType": "text",
       "autoCreated": true,
       "validationRegex": null
      }
     }
    },
    "cron_schedule": {
     "currentValue": "0 */5 * * * ?",
     "nuid": "2ab40654-4ed5-4f8c-bdcf-4a85e4c2aebd",
     "typedWidgetInfo": {
      "autoCreated": true,
      "defaultValue": "",
      "label": null,
      "name": "cron_schedule",
      "options": {
       "widgetDisplayType": "Text",
       "validationRegex": null
      },
      "parameterDataType": "String"
     },
     "widgetInfo": {
      "widgetType": "text",
      "defaultValue": "",
      "label": null,
      "name": "cron_schedule",
      "options": {
       "widgetType": "text",
       "autoCreated": true,
       "validationRegex": null
      }
     }
    },
    "parent_path": {
     "currentValue": "/Workspace/Users/akshay.amin@databricks.com/offerings/dw_ops/dbsql_http/jobs",
     "nuid": "75e2c6f0-3d25-4794-b66b-824700ef3da1",
     "typedWidgetInfo": {
      "autoCreated": true,
      "defaultValue": "",
      "label": null,
      "name": "parent_path",
      "options": {
       "widgetDisplayType": "Text",
       "validationRegex": null
      },
      "parameterDataType": "String"
     },
     "widgetInfo": {
      "widgetType": "text",
      "defaultValue": "",
      "label": null,
      "name": "parent_path",
      "options": {
       "widgetType": "text",
       "autoCreated": true,
       "validationRegex": null
      }
     }
    },
    "schema": {
     "currentValue": "dw_ops",
     "nuid": "83a9b3c2-5d7d-4f33-90a9-d66ccd4cb272",
     "typedWidgetInfo": {
      "autoCreated": true,
      "defaultValue": "",
      "label": null,
      "name": "schema",
      "options": {
       "widgetDisplayType": "Text",
       "validationRegex": null
      },
      "parameterDataType": "String"
     },
     "widgetInfo": {
      "widgetType": "text",
      "defaultValue": "",
      "label": null,
      "name": "schema",
      "options": {
       "widgetType": "text",
       "autoCreated": true,
       "validationRegex": null
      }
     }
    },
    "source_display": {
     "currentValue": "error_count",
     "nuid": "10c8f4c8-379f-4c57-802b-afd21271fa4a",
     "typedWidgetInfo": {
      "autoCreated": true,
      "defaultValue": "",
      "label": null,
      "name": "source_display",
      "options": {
       "widgetDisplayType": "Text",
       "validationRegex": null
      },
      "parameterDataType": "String"
     },
     "widgetInfo": {
      "widgetType": "text",
      "defaultValue": "",
      "label": null,
      "name": "source_display",
      "options": {
       "widgetType": "text",
       "autoCreated": true,
       "validationRegex": null
      }
     }
    },
    "source_name": {
     "currentValue": "error_count",
     "nuid": "42096f26-f72d-4dcf-9bca-e84ad1accf2b",
     "typedWidgetInfo": {
      "autoCreated": true,
      "defaultValue": "",
      "label": null,
      "name": "source_name",
      "options": {
       "widgetDisplayType": "Text",
       "validationRegex": null
      },
      "parameterDataType": "String"
     },
     "widgetInfo": {
      "widgetType": "text",
      "defaultValue": "",
      "label": null,
      "name": "source_name",
      "options": {
       "widgetType": "text",
       "autoCreated": true,
       "validationRegex": null
      }
     }
    },
    "threshold_value": {
     "currentValue": "10",
     "nuid": "787e6c86-09e2-48ab-8d42-fde790fb78e2",
     "typedWidgetInfo": {
      "autoCreated": true,
      "defaultValue": "",
      "label": null,
      "name": "threshold_value",
      "options": {
       "widgetDisplayType": "Text",
       "validationRegex": null
      },
      "parameterDataType": "String"
     },
     "widgetInfo": {
      "widgetType": "text",
      "defaultValue": "",
      "label": null,
      "name": "threshold_value",
      "options": {
       "widgetType": "text",
       "autoCreated": true,
       "validationRegex": null
      }
     }
    },
    "user_email": {
     "currentValue": "akshay.amin@databricks.com",
     "nuid": "928122bc-42b4-4f43-af04-1d56c2535023",
     "typedWidgetInfo": {
      "autoCreated": true,
      "defaultValue": "",
      "label": null,
      "name": "user_email",
      "options": {
       "widgetDisplayType": "Text",
       "validationRegex": null
      },
      "parameterDataType": "String"
     },
     "widgetInfo": {
      "widgetType": "text",
      "defaultValue": "",
      "label": null,
      "name": "user_email",
      "options": {
       "widgetType": "text",
       "autoCreated": true,
       "validationRegex": null
      }
     }
    },
    "warehouse_id": {
     "currentValue": "8baced1ff014912d",
     "nuid": "2b39d015-3f2e-4aa7-93a4-9cc713e0da42",
     "typedWidgetInfo": {
      "autoCreated": false,
      "defaultValue": "",
      "label": "",
      "name": "warehouse_id",
      "options": {
       "widgetDisplayType": "Text",
       "validationRegex": null
      },
      "parameterDataType": "String"
     },
     "widgetInfo": {
      "widgetType": "text",
      "defaultValue": "",
      "label": "",
      "name": "warehouse_id",
      "options": {
       "widgetType": "text",
       "autoCreated": false,
       "validationRegex": null
      }
     }
    }
   }
  },
  "language_info": {
   "name": "sql"
  }
 },
 "nbformat": 4,
 "nbformat_minor": 0
}